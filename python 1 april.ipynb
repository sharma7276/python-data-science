{
 "cells": [
  {
   "cell_type": "code",
   "execution_count": 1,
   "metadata": {},
   "outputs": [],
   "source": [
    "#file handling:-  it is a way to create a file using python and put some content in that file"
   ]
  },
  {
   "cell_type": "code",
   "execution_count": 2,
   "metadata": {},
   "outputs": [],
   "source": [
    "import os"
   ]
  },
  {
   "cell_type": "code",
   "execution_count": 3,
   "metadata": {},
   "outputs": [
    {
     "data": {
      "text/plain": [
       "'C:\\\\Users\\\\Ankit Sharma'"
      ]
     },
     "execution_count": 3,
     "metadata": {},
     "output_type": "execute_result"
    }
   ],
   "source": [
    "os.getcwd()"
   ]
  },
  {
   "cell_type": "code",
   "execution_count": 4,
   "metadata": {},
   "outputs": [],
   "source": [
    "os.chdir(r'C:\\Users\\Ankit Sharma\\Desktop\\aaa')"
   ]
  },
  {
   "cell_type": "code",
   "execution_count": 5,
   "metadata": {},
   "outputs": [
    {
     "data": {
      "text/plain": [
       "'C:\\\\Users\\\\Ankit Sharma\\\\Desktop\\\\aaa'"
      ]
     },
     "execution_count": 5,
     "metadata": {},
     "output_type": "execute_result"
    }
   ],
   "source": [
    "os.getcwd()"
   ]
  },
  {
   "cell_type": "code",
   "execution_count": 6,
   "metadata": {},
   "outputs": [
    {
     "name": "stdout",
     "output_type": "stream",
     "text": [
      "data written successfully\n"
     ]
    }
   ],
   "source": [
    "#making a file using python\n",
    "#open() is used to open file\n",
    "file = open('CA_Python_0401.txt','w')\n",
    "file.write('CA we help stud')\n",
    "file.write('\\n we work in nm to make project')\n",
    "file.write('\\n associated with it company and helping them on business and ds and ai')\n",
    "file.write('\\our head quater is in nagpur maharashtra')\n",
    "print('data written successfully')\n",
    "file.close()"
   ]
  },
  {
   "cell_type": "code",
   "execution_count": 10,
   "metadata": {},
   "outputs": [
    {
     "name": "stdout",
     "output_type": "stream",
     "text": [
      "Data written successfully\n"
     ]
    }
   ],
   "source": [
    "#add some more line in file , a for append mode\n",
    "file = open('CA_Python0401.txt','a')\n",
    "file.write('\\n we are currently working on facial attendence based system')\n",
    "print('Data written successfully')\n",
    "file.close()"
   ]
  },
  {
   "cell_type": "code",
   "execution_count": 11,
   "metadata": {},
   "outputs": [],
   "source": [
    "file = open('CA_Python_0401.txt','w')\n",
    "file.write('hello')\n",
    "file.close()"
   ]
  },
  {
   "cell_type": "code",
   "execution_count": 12,
   "metadata": {},
   "outputs": [],
   "source": [
    "list = ['My name is ankit','\\n i am learnig python']\n",
    "file= open('CA_Python_0401.txt','w')\n",
    "file.writelines(list)\n",
    "file.close()"
   ]
  },
  {
   "cell_type": "code",
   "execution_count": 14,
   "metadata": {},
   "outputs": [
    {
     "name": "stdout",
     "output_type": "stream",
     "text": [
      "My name is ankit\n"
     ]
    }
   ],
   "source": [
    "#read in particular portion of file,index from 1-16 not from 0\n",
    "file = open('CA_Python_0401.txt','r')\n",
    "call = file.read(16)\n",
    "print(call)\n",
    "file.close()"
   ]
  },
  {
   "cell_type": "code",
   "execution_count": 15,
   "metadata": {},
   "outputs": [],
   "source": [
    "#renaming the file\n",
    "os.rename('CA_Python_0401.txt','capython.txt')"
   ]
  },
  {
   "cell_type": "code",
   "execution_count": 16,
   "metadata": {},
   "outputs": [],
   "source": [
    "#add time stamp to file name\n",
    "os.chdir(r'C:\\Users\\Ankit Sharma\\Desktop\\aaa\\logs')"
   ]
  },
  {
   "cell_type": "code",
   "execution_count": 41,
   "metadata": {},
   "outputs": [],
   "source": [
    "file = open('capython.txt','w')\n",
    "file.write('Hello')\n",
    "file.close()"
   ]
  },
  {
   "cell_type": "code",
   "execution_count": 18,
   "metadata": {},
   "outputs": [],
   "source": [
    "#package used to get date and time information and other related operation\n",
    "import datetime"
   ]
  },
  {
   "cell_type": "code",
   "execution_count": 19,
   "metadata": {},
   "outputs": [
    {
     "data": {
      "text/plain": [
       "datetime.datetime(2020, 3, 31, 22, 58, 25, 159447)"
      ]
     },
     "execution_count": 19,
     "metadata": {},
     "output_type": "execute_result"
    }
   ],
   "source": [
    "datetime.datetime.today()"
   ]
  },
  {
   "cell_type": "code",
   "execution_count": 26,
   "metadata": {},
   "outputs": [],
   "source": [
    "current_date = datetime.datetime.today().strftime('%d-%b-%y')"
   ]
  },
  {
   "cell_type": "code",
   "execution_count": 27,
   "metadata": {},
   "outputs": [
    {
     "data": {
      "text/plain": [
       "'31-Mar-20'"
      ]
     },
     "execution_count": 27,
     "metadata": {},
     "output_type": "execute_result"
    }
   ],
   "source": [
    "current_date"
   ]
  },
  {
   "cell_type": "code",
   "execution_count": 30,
   "metadata": {},
   "outputs": [],
   "source": [
    "os.rename('capython_31-Mar-20.txt','capython_'+str(current_date)+'.txt')"
   ]
  },
  {
   "cell_type": "code",
   "execution_count": 31,
   "metadata": {},
   "outputs": [],
   "source": [
    "#op = file name is 'capython 31 mar 2020'\n",
    "#strf() return the string in the form of date"
   ]
  },
  {
   "cell_type": "code",
   "execution_count": 32,
   "metadata": {},
   "outputs": [],
   "source": [
    "current_date1 = datetime.datetime.today().strftime('%d-%m-%y')"
   ]
  },
  {
   "cell_type": "code",
   "execution_count": 33,
   "metadata": {},
   "outputs": [
    {
     "data": {
      "text/plain": [
       "'31-03-20'"
      ]
     },
     "execution_count": 33,
     "metadata": {},
     "output_type": "execute_result"
    }
   ],
   "source": [
    "current_date1"
   ]
  },
  {
   "cell_type": "code",
   "execution_count": 34,
   "metadata": {},
   "outputs": [],
   "source": [
    "current_date1 = datetime.datetime.today().strftime('%d-%m-%y, %H:%M:%S')"
   ]
  },
  {
   "cell_type": "code",
   "execution_count": 36,
   "metadata": {},
   "outputs": [
    {
     "ename": "OSError",
     "evalue": "[WinError 123] The filename, directory name, or volume label syntax is incorrect: 'aa.txt' -> 'capython_31-03-20, 23:04:24.txt'",
     "output_type": "error",
     "traceback": [
      "\u001b[1;31m---------------------------------------------------------------------------\u001b[0m",
      "\u001b[1;31mOSError\u001b[0m                                   Traceback (most recent call last)",
      "\u001b[1;32m<ipython-input-36-1556c9baa1b2>\u001b[0m in \u001b[0;36m<module>\u001b[1;34m\u001b[0m\n\u001b[1;32m----> 1\u001b[1;33m \u001b[0mos\u001b[0m\u001b[1;33m.\u001b[0m\u001b[0mrename\u001b[0m\u001b[1;33m(\u001b[0m\u001b[1;34m'aa.txt'\u001b[0m\u001b[1;33m,\u001b[0m\u001b[1;34m'capython_'\u001b[0m\u001b[1;33m+\u001b[0m\u001b[0mstr\u001b[0m\u001b[1;33m(\u001b[0m\u001b[0mcurrent_date1\u001b[0m\u001b[1;33m)\u001b[0m\u001b[1;33m+\u001b[0m\u001b[1;34m'.txt'\u001b[0m\u001b[1;33m)\u001b[0m\u001b[1;33m\u001b[0m\u001b[1;33m\u001b[0m\u001b[0m\n\u001b[0m",
      "\u001b[1;31mOSError\u001b[0m: [WinError 123] The filename, directory name, or volume label syntax is incorrect: 'aa.txt' -> 'capython_31-03-20, 23:04:24.txt'"
     ]
    }
   ],
   "source": [
    "os.rename('aa.txt','capython_'+str(current_date1)+'.txt')"
   ]
  },
  {
   "cell_type": "code",
   "execution_count": 37,
   "metadata": {},
   "outputs": [
    {
     "data": {
      "text/plain": [
       "'C:\\\\Users\\\\Ankit Sharma\\\\Desktop\\\\aaa\\\\logs'"
      ]
     },
     "execution_count": 37,
     "metadata": {},
     "output_type": "execute_result"
    }
   ],
   "source": [
    "os.getcwd()"
   ]
  },
  {
   "cell_type": "code",
   "execution_count": 38,
   "metadata": {},
   "outputs": [
    {
     "data": {
      "text/plain": [
       "'31-03-20, 23:04:24'"
      ]
     },
     "execution_count": 38,
     "metadata": {},
     "output_type": "execute_result"
    }
   ],
   "source": [
    "current_date1"
   ]
  },
  {
   "cell_type": "code",
   "execution_count": 39,
   "metadata": {},
   "outputs": [
    {
     "ename": "OSError",
     "evalue": "[WinError 123] The filename, directory name, or volume label syntax is incorrect: 'aa.txt' -> 'ca_31-03-20, 23:04:24.txt'",
     "output_type": "error",
     "traceback": [
      "\u001b[1;31m---------------------------------------------------------------------------\u001b[0m",
      "\u001b[1;31mOSError\u001b[0m                                   Traceback (most recent call last)",
      "\u001b[1;32m<ipython-input-39-544938290c0d>\u001b[0m in \u001b[0;36m<module>\u001b[1;34m\u001b[0m\n\u001b[1;32m----> 1\u001b[1;33m \u001b[0mos\u001b[0m\u001b[1;33m.\u001b[0m\u001b[0mrename\u001b[0m\u001b[1;33m(\u001b[0m\u001b[1;34m'aa.txt'\u001b[0m\u001b[1;33m,\u001b[0m\u001b[1;34m'ca_'\u001b[0m\u001b[1;33m+\u001b[0m\u001b[0mstr\u001b[0m\u001b[1;33m(\u001b[0m\u001b[0mcurrent_date1\u001b[0m\u001b[1;33m)\u001b[0m\u001b[1;33m+\u001b[0m\u001b[1;34m'.txt'\u001b[0m\u001b[1;33m)\u001b[0m\u001b[1;33m\u001b[0m\u001b[1;33m\u001b[0m\u001b[0m\n\u001b[0m",
      "\u001b[1;31mOSError\u001b[0m: [WinError 123] The filename, directory name, or volume label syntax is incorrect: 'aa.txt' -> 'ca_31-03-20, 23:04:24.txt'"
     ]
    }
   ],
   "source": [
    "os.rename('aa.txt','ca_'+str(current_date1)+'.txt')"
   ]
  },
  {
   "cell_type": "code",
   "execution_count": 40,
   "metadata": {},
   "outputs": [],
   "source": [
    "#remove a file\n",
    "os.remove('aa.txt')"
   ]
  },
  {
   "cell_type": "code",
   "execution_count": 43,
   "metadata": {},
   "outputs": [
    {
     "name": "stdout",
     "output_type": "stream",
     "text": [
      "file deleted\n"
     ]
    }
   ],
   "source": [
    "if os.path.exists('capython.txt'):\n",
    "    os.remove('capython.txt')\n",
    "    print('file deleted')\n",
    "else:\n",
    "    print('the file does not exist')"
   ]
  },
  {
   "cell_type": "code",
   "execution_count": 44,
   "metadata": {},
   "outputs": [
    {
     "name": "stdout",
     "output_type": "stream",
     "text": [
      "the file does not exist\n"
     ]
    }
   ],
   "source": [
    "if os.path.exists('capython.txt'):\n",
    "    os.remove('capython.txt')\n",
    "    print('file deleted')\n",
    "else:\n",
    "    print('the file does not exist')"
   ]
  },
  {
   "cell_type": "code",
   "execution_count": 45,
   "metadata": {},
   "outputs": [
    {
     "name": "stdout",
     "output_type": "stream",
     "text": [
      "Enter your nameankit\n",
      "Enter your age20\n",
      "enter ur marks19\n",
      "data written\n"
     ]
    }
   ],
   "source": [
    "#input from user side\n",
    "file = open('capython.txt','w')\n",
    "file.write(input('Enter your name'))\n",
    "file.write(',')\n",
    "file.write(input('Enter your age'))\n",
    "file.write(',')\n",
    "file.write(input('enter ur marks'))\n",
    "print('data written')\n",
    "file.close()"
   ]
  },
  {
   "cell_type": "markdown",
   "metadata": {},
   "source": [
    "# exception handling"
   ]
  },
  {
   "cell_type": "code",
   "execution_count": 46,
   "metadata": {},
   "outputs": [],
   "source": [
    "#None means nothing is assigned, Nane means null value\n",
    "result = None"
   ]
  },
  {
   "cell_type": "code",
   "execution_count": 47,
   "metadata": {},
   "outputs": [
    {
     "data": {
      "text/plain": [
       "NoneType"
      ]
     },
     "execution_count": 47,
     "metadata": {},
     "output_type": "execute_result"
    }
   ],
   "source": [
    "type(result)"
   ]
  },
  {
   "cell_type": "code",
   "execution_count": 48,
   "metadata": {},
   "outputs": [
    {
     "name": "stdout",
     "output_type": "stream",
     "text": [
      "Enter first number10\n",
      "Enter the second number5\n",
      "None\n",
      "2.0\n"
     ]
    }
   ],
   "source": [
    "result = None\n",
    "x= int(input('Enter first number'))\n",
    "y = int(input('Enter the second number'))\n",
    "print(result)\n",
    "result= x/y\n",
    "print(result)"
   ]
  },
  {
   "cell_type": "code",
   "execution_count": 49,
   "metadata": {},
   "outputs": [
    {
     "name": "stdout",
     "output_type": "stream",
     "text": [
      "Enter first number10\n",
      "Enter the second number0\n",
      "None\n"
     ]
    },
    {
     "ename": "ZeroDivisionError",
     "evalue": "division by zero",
     "output_type": "error",
     "traceback": [
      "\u001b[1;31m---------------------------------------------------------------------------\u001b[0m",
      "\u001b[1;31mZeroDivisionError\u001b[0m                         Traceback (most recent call last)",
      "\u001b[1;32m<ipython-input-49-ca9474e16f4a>\u001b[0m in \u001b[0;36m<module>\u001b[1;34m\u001b[0m\n\u001b[0;32m      3\u001b[0m \u001b[0my\u001b[0m \u001b[1;33m=\u001b[0m \u001b[0mint\u001b[0m\u001b[1;33m(\u001b[0m\u001b[0minput\u001b[0m\u001b[1;33m(\u001b[0m\u001b[1;34m'Enter the second number'\u001b[0m\u001b[1;33m)\u001b[0m\u001b[1;33m)\u001b[0m\u001b[1;33m\u001b[0m\u001b[1;33m\u001b[0m\u001b[0m\n\u001b[0;32m      4\u001b[0m \u001b[0mprint\u001b[0m\u001b[1;33m(\u001b[0m\u001b[0mresult\u001b[0m\u001b[1;33m)\u001b[0m\u001b[1;33m\u001b[0m\u001b[1;33m\u001b[0m\u001b[0m\n\u001b[1;32m----> 5\u001b[1;33m \u001b[0mresult\u001b[0m\u001b[1;33m=\u001b[0m \u001b[0mx\u001b[0m\u001b[1;33m/\u001b[0m\u001b[0my\u001b[0m\u001b[1;33m\u001b[0m\u001b[1;33m\u001b[0m\u001b[0m\n\u001b[0m\u001b[0;32m      6\u001b[0m \u001b[0mprint\u001b[0m\u001b[1;33m(\u001b[0m\u001b[0mresult\u001b[0m\u001b[1;33m)\u001b[0m\u001b[1;33m\u001b[0m\u001b[1;33m\u001b[0m\u001b[0m\n",
      "\u001b[1;31mZeroDivisionError\u001b[0m: division by zero"
     ]
    }
   ],
   "source": [
    "result = None\n",
    "x= int(input('Enter first number'))\n",
    "y = int(input('Enter the second number'))\n",
    "print(result)\n",
    "result= x/y\n",
    "print(result)"
   ]
  },
  {
   "cell_type": "code",
   "execution_count": 51,
   "metadata": {},
   "outputs": [],
   "source": [
    "#divide by zero error ^"
   ]
  },
  {
   "cell_type": "code",
   "execution_count": 52,
   "metadata": {},
   "outputs": [
    {
     "name": "stdout",
     "output_type": "stream",
     "text": [
      "Enter first number10\n",
      "Enter the second numbera\n"
     ]
    },
    {
     "ename": "ValueError",
     "evalue": "invalid literal for int() with base 10: 'a'",
     "output_type": "error",
     "traceback": [
      "\u001b[1;31m---------------------------------------------------------------------------\u001b[0m",
      "\u001b[1;31mValueError\u001b[0m                                Traceback (most recent call last)",
      "\u001b[1;32m<ipython-input-52-ca9474e16f4a>\u001b[0m in \u001b[0;36m<module>\u001b[1;34m\u001b[0m\n\u001b[0;32m      1\u001b[0m \u001b[0mresult\u001b[0m \u001b[1;33m=\u001b[0m \u001b[1;32mNone\u001b[0m\u001b[1;33m\u001b[0m\u001b[1;33m\u001b[0m\u001b[0m\n\u001b[0;32m      2\u001b[0m \u001b[0mx\u001b[0m\u001b[1;33m=\u001b[0m \u001b[0mint\u001b[0m\u001b[1;33m(\u001b[0m\u001b[0minput\u001b[0m\u001b[1;33m(\u001b[0m\u001b[1;34m'Enter first number'\u001b[0m\u001b[1;33m)\u001b[0m\u001b[1;33m)\u001b[0m\u001b[1;33m\u001b[0m\u001b[1;33m\u001b[0m\u001b[0m\n\u001b[1;32m----> 3\u001b[1;33m \u001b[0my\u001b[0m \u001b[1;33m=\u001b[0m \u001b[0mint\u001b[0m\u001b[1;33m(\u001b[0m\u001b[0minput\u001b[0m\u001b[1;33m(\u001b[0m\u001b[1;34m'Enter the second number'\u001b[0m\u001b[1;33m)\u001b[0m\u001b[1;33m)\u001b[0m\u001b[1;33m\u001b[0m\u001b[1;33m\u001b[0m\u001b[0m\n\u001b[0m\u001b[0;32m      4\u001b[0m \u001b[0mprint\u001b[0m\u001b[1;33m(\u001b[0m\u001b[0mresult\u001b[0m\u001b[1;33m)\u001b[0m\u001b[1;33m\u001b[0m\u001b[1;33m\u001b[0m\u001b[0m\n\u001b[0;32m      5\u001b[0m \u001b[0mresult\u001b[0m\u001b[1;33m=\u001b[0m \u001b[0mx\u001b[0m\u001b[1;33m/\u001b[0m\u001b[0my\u001b[0m\u001b[1;33m\u001b[0m\u001b[1;33m\u001b[0m\u001b[0m\n",
      "\u001b[1;31mValueError\u001b[0m: invalid literal for int() with base 10: 'a'"
     ]
    }
   ],
   "source": [
    "result = None\n",
    "x= int(input('Enter first number'))\n",
    "y = int(input('Enter the second number'))\n",
    "print(result)\n",
    "result= x/y\n",
    "print(result)"
   ]
  },
  {
   "cell_type": "code",
   "execution_count": 53,
   "metadata": {},
   "outputs": [],
   "source": [
    "#value error^"
   ]
  },
  {
   "cell_type": "code",
   "execution_count": 54,
   "metadata": {},
   "outputs": [],
   "source": [
    "#try except block\n",
    "# if any error occur  the except block is executed"
   ]
  },
  {
   "cell_type": "code",
   "execution_count": 56,
   "metadata": {},
   "outputs": [
    {
     "name": "stdout",
     "output_type": "stream",
     "text": [
      "Enter number1 20\n",
      "Enter number2 5\n",
      "None\n",
      "4.0\n"
     ]
    }
   ],
   "source": [
    "try:\n",
    "    result=None\n",
    "    x=int(input('Enter number1 '))\n",
    "    y=int(input('Enter number2 '))\n",
    "    print(result)\n",
    "    result=x/y\n",
    "except:\n",
    "    print('error in the code')\n",
    "print(result)"
   ]
  },
  {
   "cell_type": "code",
   "execution_count": 57,
   "metadata": {},
   "outputs": [
    {
     "name": "stdout",
     "output_type": "stream",
     "text": [
      "Enter number1 10\n",
      "Enter number2 0\n",
      "None\n",
      "error in the code\n",
      "None\n"
     ]
    }
   ],
   "source": [
    "try:\n",
    "    result=None\n",
    "    x=int(input('Enter number1 '))\n",
    "    y=int(input('Enter number2 '))\n",
    "    print(result)\n",
    "    result=x/y\n",
    "except:\n",
    "    print('error in the code')\n",
    "print(result)"
   ]
  },
  {
   "cell_type": "code",
   "execution_count": 58,
   "metadata": {},
   "outputs": [
    {
     "name": "stdout",
     "output_type": "stream",
     "text": [
      "Enter number1 10\n",
      "Enter number2 5\n",
      "None\n",
      "2.0\n"
     ]
    }
   ],
   "source": [
    "#fetching error information\n",
    "try:\n",
    "    result=None\n",
    "    x=int(input('Enter number1 '))\n",
    "    y=int(input('Enter number2 '))\n",
    "    print(result)\n",
    "    result=x/y\n",
    "except Exception as e:\n",
    "    print(type(e))\n",
    "print(result)"
   ]
  },
  {
   "cell_type": "code",
   "execution_count": 60,
   "metadata": {},
   "outputs": [
    {
     "name": "stdout",
     "output_type": "stream",
     "text": [
      "Enter number1 10\n",
      "Enter number2 0\n",
      "None\n",
      "<class 'ZeroDivisionError'>\n",
      "None\n"
     ]
    }
   ],
   "source": [
    "try:\n",
    "    result=None\n",
    "    x=int(input('Enter number1 '))\n",
    "    y=int(input('Enter number2 '))\n",
    "    print(result)\n",
    "    result=x/y\n",
    "except Exception as e:\n",
    "    print(type(e))\n",
    "print(result)"
   ]
  },
  {
   "cell_type": "code",
   "execution_count": 61,
   "metadata": {},
   "outputs": [
    {
     "name": "stdout",
     "output_type": "stream",
     "text": [
      "Enter number1 10\n",
      "Enter number2 a\n",
      "<class 'ValueError'>\n",
      "None\n"
     ]
    }
   ],
   "source": [
    "try:\n",
    "    result=None\n",
    "    x=int(input('Enter number1 '))\n",
    "    y=int(input('Enter number2 '))\n",
    "    print(result)\n",
    "    result=x/y\n",
    "except Exception as e:\n",
    "    print(type(e))\n",
    "print(result)"
   ]
  },
  {
   "cell_type": "code",
   "execution_count": 62,
   "metadata": {},
   "outputs": [
    {
     "name": "stdout",
     "output_type": "stream",
     "text": [
      "Enter number1 10\n",
      "Enter number2 0\n",
      "None\n",
      "division by zero\n",
      "None\n"
     ]
    }
   ],
   "source": [
    "try:\n",
    "    result=None\n",
    "    x=int(input('Enter number1 '))\n",
    "    y=int(input('Enter number2 '))\n",
    "    print(result)\n",
    "    result=x/y\n",
    "except Exception as e:\n",
    "    print(e)\n",
    "print(result)"
   ]
  },
  {
   "cell_type": "code",
   "execution_count": 63,
   "metadata": {},
   "outputs": [
    {
     "name": "stdout",
     "output_type": "stream",
     "text": [
      "Enter number1 10\n",
      "Enter number2 a\n",
      "invalid literal for int() with base 10: 'a'\n",
      "None\n"
     ]
    }
   ],
   "source": [
    "try:\n",
    "    result=None\n",
    "    x=int(input('Enter number1 '))\n",
    "    y=int(input('Enter number2 '))\n",
    "    print(result)\n",
    "    result=x/y\n",
    "except Exception as e:\n",
    "    print(e)\n",
    "print(result)"
   ]
  },
  {
   "cell_type": "code",
   "execution_count": 64,
   "metadata": {},
   "outputs": [
    {
     "name": "stdout",
     "output_type": "stream",
     "text": [
      "Enter number1 10\n",
      "Enter number2 0\n",
      "None\n",
      "division by zero\n",
      "None\n"
     ]
    }
   ],
   "source": [
    "#other clause\n",
    "#else when the error didnt occur or process fails\n",
    "#finally executes alway whether error occur or not\n",
    "try:\n",
    "    result=None\n",
    "    x=int(input('Enter number1 '))\n",
    "    y=int(input('Enter number2 '))\n",
    "    print(result)\n",
    "    result=x/y\n",
    "except Exception as e:\n",
    "    print(e)\n",
    "else:\n",
    "    print('there is no error')\n",
    "print(result)\n"
   ]
  },
  {
   "cell_type": "code",
   "execution_count": 66,
   "metadata": {},
   "outputs": [
    {
     "name": "stdout",
     "output_type": "stream",
     "text": [
      "Enter number1 10\n",
      "Enter number2 5\n",
      "None\n",
      "there is no error\n",
      "shoot an email\n",
      "2.0\n"
     ]
    }
   ],
   "source": [
    "try:\n",
    "    result=None\n",
    "    x=int(input('Enter number1 '))\n",
    "    y=int(input('Enter number2 '))\n",
    "    print(result)\n",
    "    result=x/y\n",
    "except Exception as e:\n",
    "    print(e)\n",
    "else:\n",
    "    print('there is no error')\n",
    "finally:\n",
    "    print('shoot an email')\n",
    "print(result)\n"
   ]
  },
  {
   "cell_type": "code",
   "execution_count": 67,
   "metadata": {},
   "outputs": [
    {
     "name": "stdout",
     "output_type": "stream",
     "text": [
      "Enter number1 10\n",
      "Enter number2 0\n",
      "None\n",
      "division by zero\n",
      "shoot an email\n",
      "None\n"
     ]
    }
   ],
   "source": [
    "try:\n",
    "    result=None\n",
    "    x=int(input('Enter number1 '))\n",
    "    y=int(input('Enter number2 '))\n",
    "    print(result)\n",
    "    result=x/y\n",
    "except Exception as e:\n",
    "    print(e)\n",
    "else:\n",
    "    print('there is no error')\n",
    "finally:\n",
    "    print('shoot an email')\n",
    "print(result)"
   ]
  },
  {
   "cell_type": "code",
   "execution_count": null,
   "metadata": {},
   "outputs": [],
   "source": []
  }
 ],
 "metadata": {
  "kernelspec": {
   "display_name": "Python 3",
   "language": "python",
   "name": "python3"
  },
  "language_info": {
   "codemirror_mode": {
    "name": "ipython",
    "version": 3
   },
   "file_extension": ".py",
   "mimetype": "text/x-python",
   "name": "python",
   "nbconvert_exporter": "python",
   "pygments_lexer": "ipython3",
   "version": "3.7.6"
  }
 },
 "nbformat": 4,
 "nbformat_minor": 4
}
