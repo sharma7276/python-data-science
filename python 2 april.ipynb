{
 "cells": [
  {
   "cell_type": "markdown",
   "metadata": {},
   "source": [
    "# Regular expressions"
   ]
  },
  {
   "cell_type": "code",
   "execution_count": 7,
   "metadata": {},
   "outputs": [],
   "source": [
    "# Fetching out information from text, regular expression is used\n",
    "#regular expression is a package which comes built in with python\n",
    "# re is package for regular expression"
   ]
  },
  {
   "cell_type": "code",
   "execution_count": 8,
   "metadata": {},
   "outputs": [],
   "source": [
    "import re"
   ]
  },
  {
   "cell_type": "code",
   "execution_count": 10,
   "metadata": {},
   "outputs": [],
   "source": [
    "nameage = '''Janies is 22 and Thron is 33\n",
    "Gabrial is 44 and Joy is 21'''"
   ]
  },
  {
   "cell_type": "code",
   "execution_count": 11,
   "metadata": {},
   "outputs": [
    {
     "data": {
      "text/plain": [
       "'Janies is 22 and Thron is 33\\nGabrial is 44 and Joy is 21'"
      ]
     },
     "execution_count": 11,
     "metadata": {},
     "output_type": "execute_result"
    }
   ],
   "source": [
    "nameage"
   ]
  },
  {
   "cell_type": "code",
   "execution_count": 13,
   "metadata": {},
   "outputs": [],
   "source": [
    "# fetch out the names from the string and put it one list and also fetch the age as number and put it in a list\n",
    "#and then make a dictionary as a key pair value janies->22"
   ]
  },
  {
   "cell_type": "code",
   "execution_count": 15,
   "metadata": {},
   "outputs": [],
   "source": [
    "#since name has first letter capital\n",
    "#find text with first letter is A-Z and rest are a-z , * denote all other character,from nameage variable"
   ]
  },
  {
   "cell_type": "code",
   "execution_count": 16,
   "metadata": {},
   "outputs": [],
   "source": [
    "names = re.findall(r'[A-Z][a-z]*',nameage)"
   ]
  },
  {
   "cell_type": "code",
   "execution_count": 17,
   "metadata": {},
   "outputs": [
    {
     "data": {
      "text/plain": [
       "['Janies', 'Thron', 'Gabrial', 'Joy']"
      ]
     },
     "execution_count": 17,
     "metadata": {},
     "output_type": "execute_result"
    }
   ],
   "source": [
    "names"
   ]
  },
  {
   "cell_type": "code",
   "execution_count": 19,
   "metadata": {},
   "outputs": [],
   "source": [
    "#to find ages, \\d means 0-9,{1,2}means the age can be of 1 or two digit\n",
    "ages = re.findall(r'\\d{1,2}',nameage)"
   ]
  },
  {
   "cell_type": "code",
   "execution_count": 20,
   "metadata": {},
   "outputs": [
    {
     "data": {
      "text/plain": [
       "['22', '33', '44', '21']"
      ]
     },
     "execution_count": 20,
     "metadata": {},
     "output_type": "execute_result"
    }
   ],
   "source": [
    "ages"
   ]
  },
  {
   "cell_type": "code",
   "execution_count": 21,
   "metadata": {},
   "outputs": [],
   "source": [
    "nameage = '''Janies is 22222222 and Thron is 33\n",
    "Gabrial is 44 and Joy is 21'''"
   ]
  },
  {
   "cell_type": "code",
   "execution_count": 22,
   "metadata": {},
   "outputs": [],
   "source": [
    "ages = re.findall(r'\\d{1,2}',nameage)"
   ]
  },
  {
   "cell_type": "code",
   "execution_count": 23,
   "metadata": {},
   "outputs": [
    {
     "data": {
      "text/plain": [
       "['22', '22', '22', '22', '33', '44', '21']"
      ]
     },
     "execution_count": 23,
     "metadata": {},
     "output_type": "execute_result"
    }
   ],
   "source": [
    "ages"
   ]
  },
  {
   "cell_type": "code",
   "execution_count": 24,
   "metadata": {},
   "outputs": [],
   "source": [
    "nameage = '''Janies is 22 and Thron is 33\n",
    "Gabrial is 44 and Joy is 21'''"
   ]
  },
  {
   "cell_type": "code",
   "execution_count": 25,
   "metadata": {},
   "outputs": [],
   "source": [
    "ages = re.findall(r'\\d{1,2}',nameage)"
   ]
  },
  {
   "cell_type": "code",
   "execution_count": 26,
   "metadata": {},
   "outputs": [
    {
     "data": {
      "text/plain": [
       "['22', '33', '44', '21']"
      ]
     },
     "execution_count": 26,
     "metadata": {},
     "output_type": "execute_result"
    }
   ],
   "source": [
    "ages"
   ]
  },
  {
   "cell_type": "code",
   "execution_count": 27,
   "metadata": {},
   "outputs": [
    {
     "data": {
      "text/plain": [
       "['Janies', 'Thron', 'Gabrial', 'Joy']"
      ]
     },
     "execution_count": 27,
     "metadata": {},
     "output_type": "execute_result"
    }
   ],
   "source": [
    "names"
   ]
  },
  {
   "cell_type": "code",
   "execution_count": 28,
   "metadata": {},
   "outputs": [
    {
     "name": "stdout",
     "output_type": "stream",
     "text": [
      "{'Janies': '22', 'Thron': '33', 'Gabrial': '44', 'Joy': '21'}\n"
     ]
    }
   ],
   "source": [
    "#eachname ka first value jennis and age[0] is 22\n",
    "agedict = {}\n",
    "x = 0\n",
    "for eachname in names:\n",
    "    agedict[eachname]=ages[x]\n",
    "    x=x+1\n",
    "print(agedict)"
   ]
  },
  {
   "cell_type": "code",
   "execution_count": 29,
   "metadata": {},
   "outputs": [],
   "source": [
    "#dictionary is created\n"
   ]
  },
  {
   "cell_type": "code",
   "execution_count": 32,
   "metadata": {},
   "outputs": [],
   "source": [
    "a = 'we need to inform him with the latest information'"
   ]
  },
  {
   "cell_type": "code",
   "execution_count": 34,
   "metadata": {},
   "outputs": [],
   "source": [
    "#number of inform word in a string"
   ]
  },
  {
   "cell_type": "code",
   "execution_count": 35,
   "metadata": {},
   "outputs": [
    {
     "name": "stdout",
     "output_type": "stream",
     "text": [
      "Inform is available\n"
     ]
    }
   ],
   "source": [
    "if re.search('inform',a):\n",
    "    print('Inform is available')"
   ]
  },
  {
   "cell_type": "code",
   "execution_count": 36,
   "metadata": {},
   "outputs": [],
   "source": [
    "#how many inform are available in data set and kaha kaha available hai\n"
   ]
  },
  {
   "cell_type": "code",
   "execution_count": 37,
   "metadata": {},
   "outputs": [
    {
     "data": {
      "text/plain": [
       "['inform', 'inform']"
      ]
     },
     "execution_count": 37,
     "metadata": {},
     "output_type": "execute_result"
    }
   ],
   "source": [
    "re.findall('inform',a)"
   ]
  },
  {
   "cell_type": "code",
   "execution_count": 39,
   "metadata": {},
   "outputs": [
    {
     "name": "stdout",
     "output_type": "stream",
     "text": [
      "(11, 17)\n",
      "(38, 44)\n"
     ]
    }
   ],
   "source": [
    "for i in re.finditer('inform',a):\n",
    "    loc = i.span()\n",
    "    print(loc)"
   ]
  },
  {
   "cell_type": "code",
   "execution_count": 40,
   "metadata": {},
   "outputs": [],
   "source": [
    "string = 'Sat hat mat pat rat cat'"
   ]
  },
  {
   "cell_type": "code",
   "execution_count": 41,
   "metadata": {},
   "outputs": [
    {
     "data": {
      "text/plain": [
       "'Sat hat mat pat rat cat'"
      ]
     },
     "execution_count": 41,
     "metadata": {},
     "output_type": "execute_result"
    }
   ],
   "source": [
    "string"
   ]
  },
  {
   "cell_type": "code",
   "execution_count": 43,
   "metadata": {},
   "outputs": [
    {
     "data": {
      "text/plain": [
       "['Sat', 'mat', 'cat']"
      ]
     },
     "execution_count": 43,
     "metadata": {},
     "output_type": "execute_result"
    }
   ],
   "source": [
    "re.findall('[Smc]at',string)"
   ]
  },
  {
   "cell_type": "code",
   "execution_count": 44,
   "metadata": {},
   "outputs": [],
   "source": [
    "#we dont want hat pat rat,  ^ mean not  , "
   ]
  },
  {
   "cell_type": "code",
   "execution_count": 46,
   "metadata": {},
   "outputs": [
    {
     "data": {
      "text/plain": [
       "['Sat', 'mat', 'cat']"
      ]
     },
     "execution_count": 46,
     "metadata": {},
     "output_type": "execute_result"
    }
   ],
   "source": [
    "re.findall('[^hpr]at',string)"
   ]
  },
  {
   "cell_type": "code",
   "execution_count": 47,
   "metadata": {},
   "outputs": [],
   "source": [
    "#update string\n",
    "#areg stores rat"
   ]
  },
  {
   "cell_type": "code",
   "execution_count": 48,
   "metadata": {},
   "outputs": [],
   "source": [
    "areg = re.compile('[r]at',)"
   ]
  },
  {
   "cell_type": "code",
   "execution_count": 49,
   "metadata": {},
   "outputs": [
    {
     "data": {
      "text/plain": [
       "'Sat hat mat pat fat cat'"
      ]
     },
     "execution_count": 49,
     "metadata": {},
     "output_type": "execute_result"
    }
   ],
   "source": [
    "#sub means substitute\n",
    "areg.sub('fat',string)"
   ]
  },
  {
   "cell_type": "code",
   "execution_count": 53,
   "metadata": {},
   "outputs": [],
   "source": [
    "num = '123 1234 12345 123456 1234567 12345678'"
   ]
  },
  {
   "cell_type": "code",
   "execution_count": 54,
   "metadata": {},
   "outputs": [],
   "source": [
    "#find number which is greater than or equal to 5 digit"
   ]
  },
  {
   "cell_type": "code",
   "execution_count": 55,
   "metadata": {},
   "outputs": [
    {
     "data": {
      "text/plain": [
       "4"
      ]
     },
     "execution_count": 55,
     "metadata": {},
     "output_type": "execute_result"
    }
   ],
   "source": [
    "len(re.findall('\\d{5}',num))"
   ]
  },
  {
   "cell_type": "code",
   "execution_count": 56,
   "metadata": {},
   "outputs": [],
   "source": [
    "phone = '410-123-3343'"
   ]
  },
  {
   "cell_type": "code",
   "execution_count": 57,
   "metadata": {},
   "outputs": [
    {
     "data": {
      "text/plain": [
       "'410-123-3343'"
      ]
     },
     "execution_count": 57,
     "metadata": {},
     "output_type": "execute_result"
    }
   ],
   "source": [
    "phone"
   ]
  },
  {
   "cell_type": "code",
   "execution_count": 58,
   "metadata": {},
   "outputs": [],
   "source": [
    "#find wether phone number is valid or not"
   ]
  },
  {
   "cell_type": "code",
   "execution_count": 60,
   "metadata": {},
   "outputs": [
    {
     "name": "stdout",
     "output_type": "stream",
     "text": [
      "It is valid phone number without country code\n"
     ]
    }
   ],
   "source": [
    "if re.search('\\d{3}-\\d{3}-\\d{4}',phone):\n",
    "    print(\"It is valid phone number without country code\")\n",
    "else:\n",
    "    print(\"the phone number is not valid\")"
   ]
  },
  {
   "cell_type": "code",
   "execution_count": 61,
   "metadata": {},
   "outputs": [],
   "source": [
    "phone = '+1410-123-3343'"
   ]
  },
  {
   "cell_type": "code",
   "execution_count": 63,
   "metadata": {},
   "outputs": [
    {
     "name": "stdout",
     "output_type": "stream",
     "text": [
      "It is valid phone number without country code\n"
     ]
    }
   ],
   "source": [
    "if re.search('\\d{3}-\\d{3}-\\d{4}',phone):\n",
    "    print(\"It is valid phone number without country code\")\n",
    "elif re.search('\\+\\d{4}-\\d{3}-\\d{4}',phone):\n",
    "     print(\"It is valid phone number with country code\")\n",
    "else:\n",
    "    print(\"the phone number is not valid\")"
   ]
  },
  {
   "cell_type": "code",
   "execution_count": 64,
   "metadata": {},
   "outputs": [],
   "source": [
    "phone = '(410) 123-3343'"
   ]
  },
  {
   "cell_type": "code",
   "execution_count": 65,
   "metadata": {},
   "outputs": [
    {
     "name": "stdout",
     "output_type": "stream",
     "text": [
      "It is phone number with bracket\n"
     ]
    }
   ],
   "source": [
    "if re.search('\\d{3}-\\d{3}-\\d{4}',phone):\n",
    "    print(\"It is valid phone number without country code\")\n",
    "elif re.search('\\+\\d{4}-\\d{3}-\\d{4}',phone):\n",
    "     print(\"It is valid phone number with country code\")\n",
    "elif re.search('\\(\\d{3}\\) \\d{3}-\\d{4}',phone):\n",
    "    print(\"It is phone number with bracket\")\n",
    "else:\n",
    "    print(\"the phone number is not valid\")"
   ]
  },
  {
   "cell_type": "code",
   "execution_count": 66,
   "metadata": {},
   "outputs": [],
   "source": [
    "#write a code to verify email addresses is valid or not\n",
    "# rahul@cognitive-analytic.in valid\n",
    "#khushal.com not valid\n",
    "# @milind.gmail.com not valid\n",
    "# aastha@gmail.com  valid"
   ]
  },
  {
   "cell_type": "code",
   "execution_count": 67,
   "metadata": {},
   "outputs": [],
   "source": [
    "#summet.com\n",
    "#fetch phone from this site  this is known as scrpping\n"
   ]
  },
  {
   "cell_type": "code",
   "execution_count": 69,
   "metadata": {},
   "outputs": [],
   "source": [
    "import urllib.request"
   ]
  },
  {
   "cell_type": "code",
   "execution_count": 70,
   "metadata": {},
   "outputs": [],
   "source": [
    "url = 'https://www.summet.com/dmsi/html/codesamples/addresses.html'"
   ]
  },
  {
   "cell_type": "code",
   "execution_count": 72,
   "metadata": {},
   "outputs": [],
   "source": [
    "response = urllib.request.urlopen(url)"
   ]
  },
  {
   "cell_type": "code",
   "execution_count": 73,
   "metadata": {},
   "outputs": [],
   "source": [
    "html= response.read()"
   ]
  },
  {
   "cell_type": "code",
   "execution_count": 75,
   "metadata": {},
   "outputs": [],
   "source": [
    "htmlstr = html.decode()"
   ]
  },
  {
   "cell_type": "code",
   "execution_count": 76,
   "metadata": {},
   "outputs": [
    {
     "data": {
      "text/plain": [
       "['(257) 563-7401',\n",
       " '(372) 587-2335',\n",
       " '(786) 713-8616',\n",
       " '(793) 151-6230',\n",
       " '(492) 709-6392',\n",
       " '(654) 393-5734',\n",
       " '(404) 960-3807',\n",
       " '(314) 244-6306',\n",
       " '(947) 278-5929',\n",
       " '(684) 579-1879',\n",
       " '(389) 737-2852',\n",
       " '(660) 663-4518',\n",
       " '(608) 265-2215',\n",
       " '(959) 119-8364',\n",
       " '(468) 353-2641',\n",
       " '(248) 675-4007',\n",
       " '(939) 353-1107',\n",
       " '(570) 873-7090',\n",
       " '(302) 259-2375',\n",
       " '(717) 450-4729',\n",
       " '(453) 391-4650',\n",
       " '(559) 104-5475',\n",
       " '(387) 142-9434',\n",
       " '(516) 745-4496',\n",
       " '(326) 677-3419',\n",
       " '(746) 679-2470',\n",
       " '(455) 430-0989',\n",
       " '(490) 936-4694',\n",
       " '(985) 834-8285',\n",
       " '(662) 661-1446',\n",
       " '(802) 668-8240',\n",
       " '(477) 768-9247',\n",
       " '(791) 239-9057',\n",
       " '(832) 109-0213',\n",
       " '(837) 196-3274',\n",
       " '(268) 442-2428',\n",
       " '(850) 676-5117',\n",
       " '(861) 546-5032',\n",
       " '(176) 805-4108',\n",
       " '(715) 912-6931',\n",
       " '(993) 554-0563',\n",
       " '(357) 616-5411',\n",
       " '(121) 347-0086',\n",
       " '(304) 506-6314',\n",
       " '(425) 288-2332',\n",
       " '(145) 987-4962',\n",
       " '(187) 582-9707',\n",
       " '(750) 558-3965',\n",
       " '(492) 467-3131',\n",
       " '(774) 914-2510',\n",
       " '(888) 106-8550',\n",
       " '(539) 567-3573',\n",
       " '(693) 337-2849',\n",
       " '(545) 604-9386',\n",
       " '(221) 156-5026',\n",
       " '(414) 876-0865',\n",
       " '(932) 726-8645',\n",
       " '(726) 710-9826',\n",
       " '(622) 594-1662',\n",
       " '(948) 600-8503',\n",
       " '(605) 900-7508',\n",
       " '(716) 977-5775',\n",
       " '(368) 239-8275',\n",
       " '(725) 342-0650',\n",
       " '(711) 993-5187',\n",
       " '(882) 399-5084',\n",
       " '(287) 755-9948',\n",
       " '(659) 551-3389',\n",
       " '(275) 730-6868',\n",
       " '(725) 757-4047',\n",
       " '(314) 882-1496',\n",
       " '(639) 360-7590',\n",
       " '(168) 222-1592',\n",
       " '(896) 303-1164',\n",
       " '(203) 982-6130',\n",
       " '(906) 217-1470',\n",
       " '(614) 514-1269',\n",
       " '(763) 409-5446',\n",
       " '(836) 292-5324',\n",
       " '(926) 709-3295',\n",
       " '(963) 356-9268',\n",
       " '(736) 522-8584',\n",
       " '(410) 483-0352',\n",
       " '(252) 204-1434',\n",
       " '(874) 886-4174',\n",
       " '(581) 379-7573',\n",
       " '(983) 632-8597',\n",
       " '(295) 983-3476',\n",
       " '(873) 392-8802',\n",
       " '(360) 669-3923',\n",
       " '(840) 987-9449',\n",
       " '(422) 517-6053',\n",
       " '(126) 940-2753',\n",
       " '(427) 930-5255',\n",
       " '(689) 721-5145',\n",
       " '(676) 334-2174',\n",
       " '(437) 994-5270',\n",
       " '(564) 908-6970',\n",
       " '(577) 333-6244',\n",
       " '(655) 840-6139']"
      ]
     },
     "execution_count": 76,
     "metadata": {},
     "output_type": "execute_result"
    }
   ],
   "source": [
    "re.findall('\\(\\d{3}\\) \\d{3}-\\d{4}',htmlstr)"
   ]
  },
  {
   "cell_type": "code",
   "execution_count": 77,
   "metadata": {},
   "outputs": [],
   "source": [
    "pdata=re.findall('\\(\\d{3}\\) \\d{3}-\\d{4}',htmlstr)"
   ]
  },
  {
   "cell_type": "code",
   "execution_count": 78,
   "metadata": {},
   "outputs": [
    {
     "name": "stdout",
     "output_type": "stream",
     "text": [
      "(257) 563-7401\n",
      "(372) 587-2335\n",
      "(786) 713-8616\n",
      "(793) 151-6230\n",
      "(492) 709-6392\n",
      "(654) 393-5734\n",
      "(404) 960-3807\n",
      "(314) 244-6306\n",
      "(947) 278-5929\n",
      "(684) 579-1879\n",
      "(389) 737-2852\n",
      "(660) 663-4518\n",
      "(608) 265-2215\n",
      "(959) 119-8364\n",
      "(468) 353-2641\n",
      "(248) 675-4007\n",
      "(939) 353-1107\n",
      "(570) 873-7090\n",
      "(302) 259-2375\n",
      "(717) 450-4729\n",
      "(453) 391-4650\n",
      "(559) 104-5475\n",
      "(387) 142-9434\n",
      "(516) 745-4496\n",
      "(326) 677-3419\n",
      "(746) 679-2470\n",
      "(455) 430-0989\n",
      "(490) 936-4694\n",
      "(985) 834-8285\n",
      "(662) 661-1446\n",
      "(802) 668-8240\n",
      "(477) 768-9247\n",
      "(791) 239-9057\n",
      "(832) 109-0213\n",
      "(837) 196-3274\n",
      "(268) 442-2428\n",
      "(850) 676-5117\n",
      "(861) 546-5032\n",
      "(176) 805-4108\n",
      "(715) 912-6931\n",
      "(993) 554-0563\n",
      "(357) 616-5411\n",
      "(121) 347-0086\n",
      "(304) 506-6314\n",
      "(425) 288-2332\n",
      "(145) 987-4962\n",
      "(187) 582-9707\n",
      "(750) 558-3965\n",
      "(492) 467-3131\n",
      "(774) 914-2510\n",
      "(888) 106-8550\n",
      "(539) 567-3573\n",
      "(693) 337-2849\n",
      "(545) 604-9386\n",
      "(221) 156-5026\n",
      "(414) 876-0865\n",
      "(932) 726-8645\n",
      "(726) 710-9826\n",
      "(622) 594-1662\n",
      "(948) 600-8503\n",
      "(605) 900-7508\n",
      "(716) 977-5775\n",
      "(368) 239-8275\n",
      "(725) 342-0650\n",
      "(711) 993-5187\n",
      "(882) 399-5084\n",
      "(287) 755-9948\n",
      "(659) 551-3389\n",
      "(275) 730-6868\n",
      "(725) 757-4047\n",
      "(314) 882-1496\n",
      "(639) 360-7590\n",
      "(168) 222-1592\n",
      "(896) 303-1164\n",
      "(203) 982-6130\n",
      "(906) 217-1470\n",
      "(614) 514-1269\n",
      "(763) 409-5446\n",
      "(836) 292-5324\n",
      "(926) 709-3295\n",
      "(963) 356-9268\n",
      "(736) 522-8584\n",
      "(410) 483-0352\n",
      "(252) 204-1434\n",
      "(874) 886-4174\n",
      "(581) 379-7573\n",
      "(983) 632-8597\n",
      "(295) 983-3476\n",
      "(873) 392-8802\n",
      "(360) 669-3923\n",
      "(840) 987-9449\n",
      "(422) 517-6053\n",
      "(126) 940-2753\n",
      "(427) 930-5255\n",
      "(689) 721-5145\n",
      "(676) 334-2174\n",
      "(437) 994-5270\n",
      "(564) 908-6970\n",
      "(577) 333-6244\n",
      "(655) 840-6139\n"
     ]
    }
   ],
   "source": [
    "for i in pdata:\n",
    "    print(i)"
   ]
  },
  {
   "cell_type": "code",
   "execution_count": 79,
   "metadata": {},
   "outputs": [],
   "source": [
    "import pandas as pd"
   ]
  },
  {
   "cell_type": "code",
   "execution_count": 81,
   "metadata": {},
   "outputs": [],
   "source": [
    "phone_no=pd.DataFrame(pdata)"
   ]
  },
  {
   "cell_type": "code",
   "execution_count": 82,
   "metadata": {},
   "outputs": [],
   "source": [
    "import os "
   ]
  },
  {
   "cell_type": "code",
   "execution_count": 84,
   "metadata": {},
   "outputs": [
    {
     "data": {
      "text/plain": [
       "'C:\\\\Users\\\\Ankit Sharma'"
      ]
     },
     "execution_count": 84,
     "metadata": {},
     "output_type": "execute_result"
    }
   ],
   "source": [
    "os.getcwd()"
   ]
  },
  {
   "cell_type": "code",
   "execution_count": 86,
   "metadata": {},
   "outputs": [],
   "source": [
    "os.chdir(r'F:\\python')"
   ]
  },
  {
   "cell_type": "code",
   "execution_count": 87,
   "metadata": {},
   "outputs": [],
   "source": [
    "phone_no.to_excel('phone_no.xls')"
   ]
  },
  {
   "cell_type": "code",
   "execution_count": null,
   "metadata": {},
   "outputs": [],
   "source": []
  }
 ],
 "metadata": {
  "kernelspec": {
   "display_name": "Python 3",
   "language": "python",
   "name": "python3"
  },
  "language_info": {
   "codemirror_mode": {
    "name": "ipython",
    "version": 3
   },
   "file_extension": ".py",
   "mimetype": "text/x-python",
   "name": "python",
   "nbconvert_exporter": "python",
   "pygments_lexer": "ipython3",
   "version": "3.7.6"
  }
 },
 "nbformat": 4,
 "nbformat_minor": 4
}
